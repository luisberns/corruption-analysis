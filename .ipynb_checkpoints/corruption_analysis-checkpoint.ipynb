{
 "cells": [
  {
   "cell_type": "markdown",
   "metadata": {},
   "source": [
    "# Corruption analysis\n",
    "Today is possible for us to readily and constantly check information online, over the years more and more people got access to mobile devices and this medium became the main for information exchange and gathering. We can imagine how this can influency society, but we're not going to study how people are interacting or being influenced, we're going to analyze the relations between CPI score of the country, the Number of Internet Users, and the Number of Journalists Killed.\n",
    "\n",
    "We want to discover how the number of people with internet access can relate with the country CPI, because people would have more access on information, and also considering how many journalists have been killed in the country in those years. It's a hypotesis that the countries perceived to be more corrupt would have more journalists killed, due to actual corruption.\n",
    "\n",
    "## Questions\n",
    "\n",
    "- What are the top 10 countries with lowest CPI score? And the highest?\n",
    "- The overall number of internet users variate between the countries with lowest and highest CPI score?\n",
    "- What are the correlation between the variables? Are there any differences between the countries with lowest and highest CPI score?\n",
    "- What are the countries that had the highest number of Journalists Killed? (1 dimention graph)\n",
    "- The correlations changes with the countries with most Journalist Killed?\n",
    "\n",
    "## About the data\n",
    "\n",
    "We used three datasets*:\n",
    "- Corruption Perception Index (CPI)\n",
    "- Number Of Internet Users (# people with internet access)\n",
    "- Number Of Journalists Killed\n",
    "\n",
    "**All the datasets were downloaded from [Gap Minder](https://www.gapminder.org)*\n",
    "\n",
    "We're considering the years from **2012** to **2016** and only countries that had journalists killed during that period.\n",
    "\n",
    "### Corruption Perception Index (CPI)\n",
    "[Transparency International, CPI 2018](https://www.transparency.org/cpi2018)\n",
    "\n",
    "More about the index (YouTube Video):\n",
    "\n",
    "[![CPI 2018](https://i.ytimg.com/vi/OXApeTYRYNQ/hqdefault.jpg?sqp=-oaymwEZCPYBEIoBSFXyq4qpAwsIARUAAIhCGAFwAQ==&rs=AOn4CLCNIW09Vs8woiyo5Y824JeMQarslQ)](https://www.youtube.com/watch?v=OXApeTYRYNQ)"
   ]
  },
  {
   "cell_type": "markdown",
   "metadata": {},
   "source": [
    "## Importing modules and data\n",
    "\n",
    "First we need to import the modules that we're going to use for wrangling the data. Also import the three datasets that's going to be cleaned before the analysis."
   ]
  },
  {
   "cell_type": "code",
   "execution_count": 1,
   "metadata": {},
   "outputs": [],
   "source": [
    "import pandas as pd\n",
    "import numpy as np\n",
    "import matplotlib\n",
    "import matplotlib.pyplot as plt\n",
    "import seaborn as sns\n",
    "\n",
    "df_internet = pd.read_csv('data/internet_users.csv')\n",
    "df_killings = pd.read_csv('data/num_of_journalists_killed.csv')\n",
    "df_cpi = pd.read_csv('data/corruption_perception_index_cpi.csv')"
   ]
  },
  {
   "cell_type": "code",
   "execution_count": 2,
   "metadata": {},
   "outputs": [],
   "source": [
    "# Let's create a list with the datasets for easier iteration\n",
    "dfs = [df_internet, df_killings, df_cpi]"
   ]
  },
  {
   "cell_type": "markdown",
   "metadata": {},
   "source": [
    "## Assessing the data\n",
    "\n",
    "Let's analyze the dataframes to see if we have any data missing or need to adequate any data type."
   ]
  },
  {
   "cell_type": "code",
   "execution_count": 3,
   "metadata": {},
   "outputs": [
    {
     "data": {
      "text/html": [
       "<div>\n",
       "<style scoped>\n",
       "    .dataframe tbody tr th:only-of-type {\n",
       "        vertical-align: middle;\n",
       "    }\n",
       "\n",
       "    .dataframe tbody tr th {\n",
       "        vertical-align: top;\n",
       "    }\n",
       "\n",
       "    .dataframe thead th {\n",
       "        text-align: right;\n",
       "    }\n",
       "</style>\n",
       "<table border=\"1\" class=\"dataframe\">\n",
       "  <thead>\n",
       "    <tr style=\"text-align: right;\">\n",
       "      <th></th>\n",
       "      <th>country</th>\n",
       "      <th>1990</th>\n",
       "      <th>1991</th>\n",
       "      <th>1992</th>\n",
       "      <th>1993</th>\n",
       "      <th>1994</th>\n",
       "      <th>1995</th>\n",
       "      <th>1996</th>\n",
       "      <th>1997</th>\n",
       "      <th>1998</th>\n",
       "      <th>...</th>\n",
       "      <th>2008</th>\n",
       "      <th>2009</th>\n",
       "      <th>2010</th>\n",
       "      <th>2011</th>\n",
       "      <th>2012</th>\n",
       "      <th>2013</th>\n",
       "      <th>2014</th>\n",
       "      <th>2015</th>\n",
       "      <th>2016</th>\n",
       "      <th>2017</th>\n",
       "    </tr>\n",
       "  </thead>\n",
       "  <tbody>\n",
       "    <tr>\n",
       "      <th>0</th>\n",
       "      <td>Afghanistan</td>\n",
       "      <td>NaN</td>\n",
       "      <td>NaN</td>\n",
       "      <td>NaN</td>\n",
       "      <td>NaN</td>\n",
       "      <td>NaN</td>\n",
       "      <td>NaN</td>\n",
       "      <td>NaN</td>\n",
       "      <td>NaN</td>\n",
       "      <td>NaN</td>\n",
       "      <td>...</td>\n",
       "      <td>1.84</td>\n",
       "      <td>3.55</td>\n",
       "      <td>4.0</td>\n",
       "      <td>5.0</td>\n",
       "      <td>5.45</td>\n",
       "      <td>5.9</td>\n",
       "      <td>7.0</td>\n",
       "      <td>8.26</td>\n",
       "      <td>10.6</td>\n",
       "      <td>NaN</td>\n",
       "    </tr>\n",
       "    <tr>\n",
       "      <th>1</th>\n",
       "      <td>Albania</td>\n",
       "      <td>NaN</td>\n",
       "      <td>NaN</td>\n",
       "      <td>NaN</td>\n",
       "      <td>NaN</td>\n",
       "      <td>NaN</td>\n",
       "      <td>0.01120</td>\n",
       "      <td>0.03220</td>\n",
       "      <td>0.04860</td>\n",
       "      <td>0.0650</td>\n",
       "      <td>...</td>\n",
       "      <td>23.90</td>\n",
       "      <td>41.20</td>\n",
       "      <td>45.0</td>\n",
       "      <td>49.0</td>\n",
       "      <td>54.70</td>\n",
       "      <td>57.2</td>\n",
       "      <td>60.1</td>\n",
       "      <td>63.30</td>\n",
       "      <td>66.4</td>\n",
       "      <td>NaN</td>\n",
       "    </tr>\n",
       "    <tr>\n",
       "      <th>2</th>\n",
       "      <td>Algeria</td>\n",
       "      <td>NaN</td>\n",
       "      <td>NaN</td>\n",
       "      <td>NaN</td>\n",
       "      <td>NaN</td>\n",
       "      <td>0.00036</td>\n",
       "      <td>0.00177</td>\n",
       "      <td>0.00174</td>\n",
       "      <td>0.01030</td>\n",
       "      <td>0.0202</td>\n",
       "      <td>...</td>\n",
       "      <td>10.20</td>\n",
       "      <td>11.20</td>\n",
       "      <td>12.5</td>\n",
       "      <td>14.9</td>\n",
       "      <td>18.20</td>\n",
       "      <td>22.5</td>\n",
       "      <td>29.5</td>\n",
       "      <td>38.20</td>\n",
       "      <td>42.9</td>\n",
       "      <td>NaN</td>\n",
       "    </tr>\n",
       "    <tr>\n",
       "      <th>3</th>\n",
       "      <td>Andorra</td>\n",
       "      <td>NaN</td>\n",
       "      <td>NaN</td>\n",
       "      <td>NaN</td>\n",
       "      <td>NaN</td>\n",
       "      <td>NaN</td>\n",
       "      <td>NaN</td>\n",
       "      <td>1.53000</td>\n",
       "      <td>3.05000</td>\n",
       "      <td>6.8900</td>\n",
       "      <td>...</td>\n",
       "      <td>70.00</td>\n",
       "      <td>78.50</td>\n",
       "      <td>81.0</td>\n",
       "      <td>81.0</td>\n",
       "      <td>86.40</td>\n",
       "      <td>94.0</td>\n",
       "      <td>95.9</td>\n",
       "      <td>96.90</td>\n",
       "      <td>97.9</td>\n",
       "      <td>NaN</td>\n",
       "    </tr>\n",
       "    <tr>\n",
       "      <th>4</th>\n",
       "      <td>Angola</td>\n",
       "      <td>NaN</td>\n",
       "      <td>NaN</td>\n",
       "      <td>NaN</td>\n",
       "      <td>NaN</td>\n",
       "      <td>NaN</td>\n",
       "      <td>NaN</td>\n",
       "      <td>0.00078</td>\n",
       "      <td>0.00567</td>\n",
       "      <td>0.0185</td>\n",
       "      <td>...</td>\n",
       "      <td>1.90</td>\n",
       "      <td>2.30</td>\n",
       "      <td>2.8</td>\n",
       "      <td>3.1</td>\n",
       "      <td>6.50</td>\n",
       "      <td>8.9</td>\n",
       "      <td>10.2</td>\n",
       "      <td>12.40</td>\n",
       "      <td>13.0</td>\n",
       "      <td>NaN</td>\n",
       "    </tr>\n",
       "  </tbody>\n",
       "</table>\n",
       "<p>5 rows × 29 columns</p>\n",
       "</div>"
      ],
      "text/plain": [
       "       country  1990  1991  1992  1993     1994     1995     1996     1997  \\\n",
       "0  Afghanistan   NaN   NaN   NaN   NaN      NaN      NaN      NaN      NaN   \n",
       "1      Albania   NaN   NaN   NaN   NaN      NaN  0.01120  0.03220  0.04860   \n",
       "2      Algeria   NaN   NaN   NaN   NaN  0.00036  0.00177  0.00174  0.01030   \n",
       "3      Andorra   NaN   NaN   NaN   NaN      NaN      NaN  1.53000  3.05000   \n",
       "4       Angola   NaN   NaN   NaN   NaN      NaN      NaN  0.00078  0.00567   \n",
       "\n",
       "     1998  ...   2008   2009  2010  2011   2012  2013  2014   2015  2016  2017  \n",
       "0     NaN  ...   1.84   3.55   4.0   5.0   5.45   5.9   7.0   8.26  10.6   NaN  \n",
       "1  0.0650  ...  23.90  41.20  45.0  49.0  54.70  57.2  60.1  63.30  66.4   NaN  \n",
       "2  0.0202  ...  10.20  11.20  12.5  14.9  18.20  22.5  29.5  38.20  42.9   NaN  \n",
       "3  6.8900  ...  70.00  78.50  81.0  81.0  86.40  94.0  95.9  96.90  97.9   NaN  \n",
       "4  0.0185  ...   1.90   2.30   2.8   3.1   6.50   8.9  10.2  12.40  13.0   NaN  \n",
       "\n",
       "[5 rows x 29 columns]"
      ]
     },
     "execution_count": 3,
     "metadata": {},
     "output_type": "execute_result"
    }
   ],
   "source": [
    "# Internet users\n",
    "dfs[0].head()"
   ]
  },
  {
   "cell_type": "code",
   "execution_count": 4,
   "metadata": {},
   "outputs": [
    {
     "name": "stdout",
     "output_type": "stream",
     "text": [
      "<class 'pandas.core.frame.DataFrame'>\n",
      "RangeIndex: 193 entries, 0 to 192\n",
      "Data columns (total 29 columns):\n",
      "country    193 non-null object\n",
      "1990       19 non-null float64\n",
      "1991       30 non-null float64\n",
      "1992       42 non-null float64\n",
      "1993       54 non-null float64\n",
      "1994       74 non-null float64\n",
      "1995       118 non-null float64\n",
      "1996       155 non-null float64\n",
      "1997       168 non-null float64\n",
      "1998       175 non-null float64\n",
      "1999       181 non-null float64\n",
      "2000       183 non-null float64\n",
      "2001       185 non-null float64\n",
      "2002       185 non-null float64\n",
      "2003       180 non-null float64\n",
      "2004       183 non-null float64\n",
      "2005       184 non-null float64\n",
      "2006       183 non-null float64\n",
      "2007       190 non-null float64\n",
      "2008       189 non-null float64\n",
      "2009       188 non-null float64\n",
      "2010       188 non-null float64\n",
      "2011       191 non-null float64\n",
      "2012       188 non-null float64\n",
      "2013       190 non-null float64\n",
      "2014       190 non-null float64\n",
      "2015       190 non-null float64\n",
      "2016       190 non-null float64\n",
      "2017       71 non-null float64\n",
      "dtypes: float64(28), object(1)\n",
      "memory usage: 43.8+ KB\n"
     ]
    }
   ],
   "source": [
    "# Internet users\n",
    "dfs[0].info()"
   ]
  },
  {
   "cell_type": "code",
   "execution_count": 5,
   "metadata": {},
   "outputs": [
    {
     "data": {
      "text/html": [
       "<div>\n",
       "<style scoped>\n",
       "    .dataframe tbody tr th:only-of-type {\n",
       "        vertical-align: middle;\n",
       "    }\n",
       "\n",
       "    .dataframe tbody tr th {\n",
       "        vertical-align: top;\n",
       "    }\n",
       "\n",
       "    .dataframe thead th {\n",
       "        text-align: right;\n",
       "    }\n",
       "</style>\n",
       "<table border=\"1\" class=\"dataframe\">\n",
       "  <thead>\n",
       "    <tr style=\"text-align: right;\">\n",
       "      <th></th>\n",
       "      <th>country</th>\n",
       "      <th>1992</th>\n",
       "      <th>1993</th>\n",
       "      <th>1994</th>\n",
       "      <th>1995</th>\n",
       "      <th>1996</th>\n",
       "      <th>1997</th>\n",
       "      <th>1998</th>\n",
       "      <th>1999</th>\n",
       "      <th>2000</th>\n",
       "      <th>...</th>\n",
       "      <th>2009</th>\n",
       "      <th>2010</th>\n",
       "      <th>2011</th>\n",
       "      <th>2012</th>\n",
       "      <th>2013</th>\n",
       "      <th>2014</th>\n",
       "      <th>2015</th>\n",
       "      <th>2016</th>\n",
       "      <th>2017</th>\n",
       "      <th>2018</th>\n",
       "    </tr>\n",
       "  </thead>\n",
       "  <tbody>\n",
       "    <tr>\n",
       "      <th>0</th>\n",
       "      <td>Afghanistan</td>\n",
       "      <td>NaN</td>\n",
       "      <td>NaN</td>\n",
       "      <td>1.0</td>\n",
       "      <td>NaN</td>\n",
       "      <td>NaN</td>\n",
       "      <td>NaN</td>\n",
       "      <td>1.0</td>\n",
       "      <td>NaN</td>\n",
       "      <td>NaN</td>\n",
       "      <td>...</td>\n",
       "      <td>2.0</td>\n",
       "      <td>2.0</td>\n",
       "      <td>2.0</td>\n",
       "      <td>NaN</td>\n",
       "      <td>NaN</td>\n",
       "      <td>3.0</td>\n",
       "      <td>NaN</td>\n",
       "      <td>4.0</td>\n",
       "      <td>4.0</td>\n",
       "      <td>13.0</td>\n",
       "    </tr>\n",
       "    <tr>\n",
       "      <th>1</th>\n",
       "      <td>Algeria</td>\n",
       "      <td>1.0</td>\n",
       "      <td>8.0</td>\n",
       "      <td>18.0</td>\n",
       "      <td>24.0</td>\n",
       "      <td>7.0</td>\n",
       "      <td>NaN</td>\n",
       "      <td>NaN</td>\n",
       "      <td>NaN</td>\n",
       "      <td>NaN</td>\n",
       "      <td>...</td>\n",
       "      <td>NaN</td>\n",
       "      <td>NaN</td>\n",
       "      <td>NaN</td>\n",
       "      <td>NaN</td>\n",
       "      <td>NaN</td>\n",
       "      <td>NaN</td>\n",
       "      <td>NaN</td>\n",
       "      <td>NaN</td>\n",
       "      <td>NaN</td>\n",
       "      <td>NaN</td>\n",
       "    </tr>\n",
       "    <tr>\n",
       "      <th>2</th>\n",
       "      <td>Angola</td>\n",
       "      <td>1.0</td>\n",
       "      <td>3.0</td>\n",
       "      <td>1.0</td>\n",
       "      <td>1.0</td>\n",
       "      <td>1.0</td>\n",
       "      <td>NaN</td>\n",
       "      <td>1.0</td>\n",
       "      <td>NaN</td>\n",
       "      <td>NaN</td>\n",
       "      <td>...</td>\n",
       "      <td>NaN</td>\n",
       "      <td>2.0</td>\n",
       "      <td>NaN</td>\n",
       "      <td>NaN</td>\n",
       "      <td>NaN</td>\n",
       "      <td>NaN</td>\n",
       "      <td>NaN</td>\n",
       "      <td>NaN</td>\n",
       "      <td>NaN</td>\n",
       "      <td>NaN</td>\n",
       "    </tr>\n",
       "    <tr>\n",
       "      <th>3</th>\n",
       "      <td>Argentina</td>\n",
       "      <td>NaN</td>\n",
       "      <td>NaN</td>\n",
       "      <td>NaN</td>\n",
       "      <td>NaN</td>\n",
       "      <td>NaN</td>\n",
       "      <td>1.0</td>\n",
       "      <td>NaN</td>\n",
       "      <td>1.0</td>\n",
       "      <td>NaN</td>\n",
       "      <td>...</td>\n",
       "      <td>NaN</td>\n",
       "      <td>NaN</td>\n",
       "      <td>NaN</td>\n",
       "      <td>NaN</td>\n",
       "      <td>NaN</td>\n",
       "      <td>NaN</td>\n",
       "      <td>NaN</td>\n",
       "      <td>NaN</td>\n",
       "      <td>NaN</td>\n",
       "      <td>NaN</td>\n",
       "    </tr>\n",
       "    <tr>\n",
       "      <th>4</th>\n",
       "      <td>Azerbaijan</td>\n",
       "      <td>1.0</td>\n",
       "      <td>NaN</td>\n",
       "      <td>NaN</td>\n",
       "      <td>1.0</td>\n",
       "      <td>NaN</td>\n",
       "      <td>NaN</td>\n",
       "      <td>NaN</td>\n",
       "      <td>NaN</td>\n",
       "      <td>NaN</td>\n",
       "      <td>...</td>\n",
       "      <td>1.0</td>\n",
       "      <td>NaN</td>\n",
       "      <td>1.0</td>\n",
       "      <td>NaN</td>\n",
       "      <td>NaN</td>\n",
       "      <td>NaN</td>\n",
       "      <td>NaN</td>\n",
       "      <td>NaN</td>\n",
       "      <td>NaN</td>\n",
       "      <td>NaN</td>\n",
       "    </tr>\n",
       "  </tbody>\n",
       "</table>\n",
       "<p>5 rows × 28 columns</p>\n",
       "</div>"
      ],
      "text/plain": [
       "       country  1992  1993  1994  1995  1996  1997  1998  1999  2000  ...  \\\n",
       "0  Afghanistan   NaN   NaN   1.0   NaN   NaN   NaN   1.0   NaN   NaN  ...   \n",
       "1      Algeria   1.0   8.0  18.0  24.0   7.0   NaN   NaN   NaN   NaN  ...   \n",
       "2       Angola   1.0   3.0   1.0   1.0   1.0   NaN   1.0   NaN   NaN  ...   \n",
       "3    Argentina   NaN   NaN   NaN   NaN   NaN   1.0   NaN   1.0   NaN  ...   \n",
       "4   Azerbaijan   1.0   NaN   NaN   1.0   NaN   NaN   NaN   NaN   NaN  ...   \n",
       "\n",
       "   2009  2010  2011  2012  2013  2014  2015  2016  2017  2018  \n",
       "0   2.0   2.0   2.0   NaN   NaN   3.0   NaN   4.0   4.0  13.0  \n",
       "1   NaN   NaN   NaN   NaN   NaN   NaN   NaN   NaN   NaN   NaN  \n",
       "2   NaN   2.0   NaN   NaN   NaN   NaN   NaN   NaN   NaN   NaN  \n",
       "3   NaN   NaN   NaN   NaN   NaN   NaN   NaN   NaN   NaN   NaN  \n",
       "4   1.0   NaN   1.0   NaN   NaN   NaN   NaN   NaN   NaN   NaN  \n",
       "\n",
       "[5 rows x 28 columns]"
      ]
     },
     "execution_count": 5,
     "metadata": {},
     "output_type": "execute_result"
    }
   ],
   "source": [
    "# Journalists Killed\n",
    "dfs[1].head()"
   ]
  },
  {
   "cell_type": "code",
   "execution_count": 6,
   "metadata": {},
   "outputs": [
    {
     "name": "stdout",
     "output_type": "stream",
     "text": [
      "<class 'pandas.core.frame.DataFrame'>\n",
      "RangeIndex: 100 entries, 0 to 99\n",
      "Data columns (total 28 columns):\n",
      "country    100 non-null object\n",
      "1992       16 non-null float64\n",
      "1993       19 non-null float64\n",
      "1994       20 non-null float64\n",
      "1995       16 non-null float64\n",
      "1996       14 non-null float64\n",
      "1997       13 non-null float64\n",
      "1998       17 non-null float64\n",
      "1999       10 non-null float64\n",
      "2000       16 non-null float64\n",
      "2001       20 non-null float64\n",
      "2002       10 non-null float64\n",
      "2003       16 non-null float64\n",
      "2004       19 non-null float64\n",
      "2005       18 non-null float64\n",
      "2006       16 non-null float64\n",
      "2007       20 non-null float64\n",
      "2008       14 non-null float64\n",
      "2009       22 non-null float64\n",
      "2010       21 non-null float64\n",
      "2011       23 non-null float64\n",
      "2012       20 non-null float64\n",
      "2013       13 non-null float64\n",
      "2014       20 non-null float64\n",
      "2015       21 non-null float64\n",
      "2016       15 non-null float64\n",
      "2017       17 non-null float64\n",
      "2018       15 non-null float64\n",
      "dtypes: float64(27), object(1)\n",
      "memory usage: 22.0+ KB\n"
     ]
    }
   ],
   "source": [
    "# Journalists Killed\n",
    "dfs[1].info()"
   ]
  },
  {
   "cell_type": "code",
   "execution_count": 7,
   "metadata": {},
   "outputs": [
    {
     "data": {
      "text/html": [
       "<div>\n",
       "<style scoped>\n",
       "    .dataframe tbody tr th:only-of-type {\n",
       "        vertical-align: middle;\n",
       "    }\n",
       "\n",
       "    .dataframe tbody tr th {\n",
       "        vertical-align: top;\n",
       "    }\n",
       "\n",
       "    .dataframe thead th {\n",
       "        text-align: right;\n",
       "    }\n",
       "</style>\n",
       "<table border=\"1\" class=\"dataframe\">\n",
       "  <thead>\n",
       "    <tr style=\"text-align: right;\">\n",
       "      <th></th>\n",
       "      <th>country</th>\n",
       "      <th>2012</th>\n",
       "      <th>2013</th>\n",
       "      <th>2014</th>\n",
       "      <th>2015</th>\n",
       "      <th>2016</th>\n",
       "      <th>2017</th>\n",
       "    </tr>\n",
       "  </thead>\n",
       "  <tbody>\n",
       "    <tr>\n",
       "      <th>0</th>\n",
       "      <td>Afghanistan</td>\n",
       "      <td>8.0</td>\n",
       "      <td>8.0</td>\n",
       "      <td>12.0</td>\n",
       "      <td>11.0</td>\n",
       "      <td>15.0</td>\n",
       "      <td>15</td>\n",
       "    </tr>\n",
       "    <tr>\n",
       "      <th>1</th>\n",
       "      <td>Albania</td>\n",
       "      <td>33.0</td>\n",
       "      <td>31.0</td>\n",
       "      <td>33.0</td>\n",
       "      <td>36.0</td>\n",
       "      <td>39.0</td>\n",
       "      <td>38</td>\n",
       "    </tr>\n",
       "    <tr>\n",
       "      <th>2</th>\n",
       "      <td>Algeria</td>\n",
       "      <td>34.0</td>\n",
       "      <td>36.0</td>\n",
       "      <td>36.0</td>\n",
       "      <td>36.0</td>\n",
       "      <td>34.0</td>\n",
       "      <td>33</td>\n",
       "    </tr>\n",
       "    <tr>\n",
       "      <th>3</th>\n",
       "      <td>Angola</td>\n",
       "      <td>22.0</td>\n",
       "      <td>23.0</td>\n",
       "      <td>19.0</td>\n",
       "      <td>15.0</td>\n",
       "      <td>18.0</td>\n",
       "      <td>19</td>\n",
       "    </tr>\n",
       "    <tr>\n",
       "      <th>4</th>\n",
       "      <td>Argentina</td>\n",
       "      <td>35.0</td>\n",
       "      <td>34.0</td>\n",
       "      <td>34.0</td>\n",
       "      <td>32.0</td>\n",
       "      <td>36.0</td>\n",
       "      <td>39</td>\n",
       "    </tr>\n",
       "  </tbody>\n",
       "</table>\n",
       "</div>"
      ],
      "text/plain": [
       "       country  2012  2013  2014  2015  2016  2017\n",
       "0  Afghanistan   8.0   8.0  12.0  11.0  15.0    15\n",
       "1      Albania  33.0  31.0  33.0  36.0  39.0    38\n",
       "2      Algeria  34.0  36.0  36.0  36.0  34.0    33\n",
       "3       Angola  22.0  23.0  19.0  15.0  18.0    19\n",
       "4    Argentina  35.0  34.0  34.0  32.0  36.0    39"
      ]
     },
     "execution_count": 7,
     "metadata": {},
     "output_type": "execute_result"
    }
   ],
   "source": [
    "# CPI\n",
    "dfs[2].head()"
   ]
  },
  {
   "cell_type": "code",
   "execution_count": 8,
   "metadata": {},
   "outputs": [
    {
     "name": "stdout",
     "output_type": "stream",
     "text": [
      "<class 'pandas.core.frame.DataFrame'>\n",
      "RangeIndex: 177 entries, 0 to 176\n",
      "Data columns (total 7 columns):\n",
      "country    177 non-null object\n",
      "2012       172 non-null float64\n",
      "2013       173 non-null float64\n",
      "2014       171 non-null float64\n",
      "2015       165 non-null float64\n",
      "2016       173 non-null float64\n",
      "2017       177 non-null int64\n",
      "dtypes: float64(5), int64(1), object(1)\n",
      "memory usage: 9.8+ KB\n"
     ]
    }
   ],
   "source": [
    "# CPI\n",
    "dfs[2].info()"
   ]
  },
  {
   "cell_type": "markdown",
   "metadata": {},
   "source": [
    "### Assessing - Fill NaN and correct type\n",
    "\n",
    "We can observe in the log above that we have some missing numbers and one column with `int` data type. Let's fix that with the code below."
   ]
  },
  {
   "cell_type": "code",
   "execution_count": 9,
   "metadata": {},
   "outputs": [],
   "source": [
    "# Fill NaN with 0 considering that we only have float or int values that are null\n",
    "# And fix data type, but skipping the first column\n",
    "for d in dfs:\n",
    "    d.fillna(0, inplace=True)\n",
    "    d = d[d.columns[1:]].astype(float)"
   ]
  },
  {
   "cell_type": "markdown",
   "metadata": {},
   "source": [
    "## Cleaning the datasets\n",
    "\n",
    "After assessing our data, let's drop some columns in our dataframes for mantain only the columns that match between those dataframes. We're going to remove the year of 2017 also, because some incomplete data."
   ]
  },
  {
   "cell_type": "code",
   "execution_count": 10,
   "metadata": {},
   "outputs": [],
   "source": [
    "# Drop columns in Internet_users dataframe\n",
    "dfs[0].drop(dfs[0].columns.to_series()['1990':'2011'], axis=1, inplace=True)\n",
    "dfs[0].drop('2017', axis=1, inplace=True)\n",
    "\n",
    "# Drop columns in Journalists_killed dataframe\n",
    "dfs[1].drop(dfs[1].columns.to_series()['1992':'2011'], axis=1, inplace=True)\n",
    "dfs[1].drop(['2017', '2018'], axis=1, inplace=True)\n",
    "\n",
    "# Drop columns in CPI dataframe\n",
    "dfs[2].drop('2017', axis=1, inplace=True)"
   ]
  },
  {
   "cell_type": "markdown",
   "metadata": {},
   "source": [
    "## Combining the data and create a unique dataset\n",
    "\n",
    "Now that our data is with the same number of columns and the missing data are filled we're going to combine the datasets following the [Tidy Data principles](https://cfss.uchicago.edu/notes/tidy-data/).\n",
    "\n",
    "![Tidy Data dataset](https://r4ds.had.co.nz/images/tidy-1.png)"
   ]
  },
  {
   "cell_type": "code",
   "execution_count": 11,
   "metadata": {},
   "outputs": [
    {
     "data": {
      "text/html": [
       "<div>\n",
       "<style scoped>\n",
       "    .dataframe tbody tr th:only-of-type {\n",
       "        vertical-align: middle;\n",
       "    }\n",
       "\n",
       "    .dataframe tbody tr th {\n",
       "        vertical-align: top;\n",
       "    }\n",
       "\n",
       "    .dataframe thead th {\n",
       "        text-align: right;\n",
       "    }\n",
       "</style>\n",
       "<table border=\"1\" class=\"dataframe\">\n",
       "  <thead>\n",
       "    <tr style=\"text-align: right;\">\n",
       "      <th></th>\n",
       "      <th>country</th>\n",
       "      <th>2012</th>\n",
       "      <th>2013</th>\n",
       "      <th>2014</th>\n",
       "      <th>2015</th>\n",
       "      <th>2016</th>\n",
       "    </tr>\n",
       "  </thead>\n",
       "  <tbody>\n",
       "    <tr>\n",
       "      <th>0</th>\n",
       "      <td>Afghanistan</td>\n",
       "      <td>5.45</td>\n",
       "      <td>5.9</td>\n",
       "      <td>7.0</td>\n",
       "      <td>8.26</td>\n",
       "      <td>10.6</td>\n",
       "    </tr>\n",
       "    <tr>\n",
       "      <th>1</th>\n",
       "      <td>Albania</td>\n",
       "      <td>54.70</td>\n",
       "      <td>57.2</td>\n",
       "      <td>60.1</td>\n",
       "      <td>63.30</td>\n",
       "      <td>66.4</td>\n",
       "    </tr>\n",
       "    <tr>\n",
       "      <th>2</th>\n",
       "      <td>Algeria</td>\n",
       "      <td>18.20</td>\n",
       "      <td>22.5</td>\n",
       "      <td>29.5</td>\n",
       "      <td>38.20</td>\n",
       "      <td>42.9</td>\n",
       "    </tr>\n",
       "    <tr>\n",
       "      <th>3</th>\n",
       "      <td>Andorra</td>\n",
       "      <td>86.40</td>\n",
       "      <td>94.0</td>\n",
       "      <td>95.9</td>\n",
       "      <td>96.90</td>\n",
       "      <td>97.9</td>\n",
       "    </tr>\n",
       "    <tr>\n",
       "      <th>4</th>\n",
       "      <td>Angola</td>\n",
       "      <td>6.50</td>\n",
       "      <td>8.9</td>\n",
       "      <td>10.2</td>\n",
       "      <td>12.40</td>\n",
       "      <td>13.0</td>\n",
       "    </tr>\n",
       "  </tbody>\n",
       "</table>\n",
       "</div>"
      ],
      "text/plain": [
       "       country   2012  2013  2014   2015  2016\n",
       "0  Afghanistan   5.45   5.9   7.0   8.26  10.6\n",
       "1      Albania  54.70  57.2  60.1  63.30  66.4\n",
       "2      Algeria  18.20  22.5  29.5  38.20  42.9\n",
       "3      Andorra  86.40  94.0  95.9  96.90  97.9\n",
       "4       Angola   6.50   8.9  10.2  12.40  13.0"
      ]
     },
     "execution_count": 11,
     "metadata": {},
     "output_type": "execute_result"
    }
   ],
   "source": [
    "# Let's create a copy of our dataframes' lists\n",
    "temp = dfs.copy()\n",
    "temp[0].head()"
   ]
  },
  {
   "cell_type": "markdown",
   "metadata": {},
   "source": [
    "### Pivoting tables\n",
    "\n",
    "We're going to pivot the year columns and create one unique column called `name` and one column for the `value`, this keep our data organized as described in the image above, with the columns as variables and our observations as rows."
   ]
  },
  {
   "cell_type": "code",
   "execution_count": 12,
   "metadata": {},
   "outputs": [],
   "source": [
    "# Change year columns to rows\n",
    "for i in range(0,len(temp)):\n",
    "    temp[i]=temp[i].melt(id_vars='country', value_vars=temp[i].columns[1:7])\n",
    "    temp[i].rename(columns={'variable': 'year'}, inplace=True)"
   ]
  },
  {
   "cell_type": "code",
   "execution_count": 13,
   "metadata": {},
   "outputs": [],
   "source": [
    "# After pivoting our column for the value needs to be renamed before merging the datasets\n",
    "temp[0].rename(columns={'value': 'internet_users'}, inplace=True)\n",
    "temp[1].rename(columns={'value': 'journalists_killed'}, inplace=True)\n",
    "temp[2].rename(columns={'value': 'cpi'}, inplace=True)"
   ]
  },
  {
   "cell_type": "code",
   "execution_count": 14,
   "metadata": {},
   "outputs": [],
   "source": [
    "# Before merging our data, we need to exclude the rows for that countries that none journalist was killed\n",
    "group_killed = temp[1].groupby('country').sum()\n",
    "none_killed = group_killed[group_killed['journalists_killed'] == 0].index\n",
    "\n",
    "temp[1] = temp[1].set_index('country').drop(list(none_killed), axis=0)"
   ]
  },
  {
   "cell_type": "code",
   "execution_count": 15,
   "metadata": {},
   "outputs": [],
   "source": [
    "# Now we simply merge the datasets in the indexes country and year\n",
    "t1 = temp[0].merge(temp[1], on=['country', 'year'], how='inner')\n",
    "t2 = t1.merge(temp[2], on=['country', 'year'], how='inner')"
   ]
  },
  {
   "cell_type": "code",
   "execution_count": 16,
   "metadata": {},
   "outputs": [
    {
     "data": {
      "text/html": [
       "<div>\n",
       "<style scoped>\n",
       "    .dataframe tbody tr th:only-of-type {\n",
       "        vertical-align: middle;\n",
       "    }\n",
       "\n",
       "    .dataframe tbody tr th {\n",
       "        vertical-align: top;\n",
       "    }\n",
       "\n",
       "    .dataframe thead th {\n",
       "        text-align: right;\n",
       "    }\n",
       "</style>\n",
       "<table border=\"1\" class=\"dataframe\">\n",
       "  <thead>\n",
       "    <tr style=\"text-align: right;\">\n",
       "      <th></th>\n",
       "      <th>country</th>\n",
       "      <th>year</th>\n",
       "      <th>cpi</th>\n",
       "      <th>internet_users</th>\n",
       "      <th>journalists_killed</th>\n",
       "    </tr>\n",
       "  </thead>\n",
       "  <tbody>\n",
       "    <tr>\n",
       "      <th>0</th>\n",
       "      <td>Afghanistan</td>\n",
       "      <td>2012</td>\n",
       "      <td>8.0</td>\n",
       "      <td>5.45</td>\n",
       "      <td>0.0</td>\n",
       "    </tr>\n",
       "    <tr>\n",
       "      <th>1</th>\n",
       "      <td>Afghanistan</td>\n",
       "      <td>2013</td>\n",
       "      <td>8.0</td>\n",
       "      <td>5.90</td>\n",
       "      <td>0.0</td>\n",
       "    </tr>\n",
       "    <tr>\n",
       "      <th>2</th>\n",
       "      <td>Afghanistan</td>\n",
       "      <td>2014</td>\n",
       "      <td>12.0</td>\n",
       "      <td>7.00</td>\n",
       "      <td>3.0</td>\n",
       "    </tr>\n",
       "    <tr>\n",
       "      <th>3</th>\n",
       "      <td>Afghanistan</td>\n",
       "      <td>2015</td>\n",
       "      <td>11.0</td>\n",
       "      <td>8.26</td>\n",
       "      <td>0.0</td>\n",
       "    </tr>\n",
       "    <tr>\n",
       "      <th>4</th>\n",
       "      <td>Afghanistan</td>\n",
       "      <td>2016</td>\n",
       "      <td>15.0</td>\n",
       "      <td>10.60</td>\n",
       "      <td>4.0</td>\n",
       "    </tr>\n",
       "  </tbody>\n",
       "</table>\n",
       "</div>"
      ],
      "text/plain": [
       "       country  year   cpi  internet_users  journalists_killed\n",
       "0  Afghanistan  2012   8.0            5.45                 0.0\n",
       "1  Afghanistan  2013   8.0            5.90                 0.0\n",
       "2  Afghanistan  2014  12.0            7.00                 3.0\n",
       "3  Afghanistan  2015  11.0            8.26                 0.0\n",
       "4  Afghanistan  2016  15.0           10.60                 4.0"
      ]
     },
     "execution_count": 16,
     "metadata": {},
     "output_type": "execute_result"
    }
   ],
   "source": [
    "# For complete our transformations we use pivot_table to define our new indexes\n",
    "ind = list(t2.columns[0:2])\n",
    "col = list(t2.columns[2:])\n",
    "\n",
    "t3 = t2.pivot_table(index=ind, values=col)\n",
    "t3.reset_index(inplace=True) # we are reseting the index for making easier to apply queries\n",
    "t3.head()"
   ]
  },
  {
   "cell_type": "markdown",
   "metadata": {},
   "source": [
    "## Create new dataset\n",
    "\n",
    "Now that we finished the transformations needed we can create a new dataset for explorations and analysis."
   ]
  },
  {
   "cell_type": "code",
   "execution_count": 17,
   "metadata": {},
   "outputs": [],
   "source": [
    "df = t3.copy()"
   ]
  },
  {
   "cell_type": "markdown",
   "metadata": {},
   "source": [
    "## Corruption Analysis - Exploring and answering questions\n",
    "Now that we have our new dataset we can make our explorations and answer some questions about this dataset.\n",
    "\n",
    "Let's remember the questions that we framed in the beggining of our document\n",
    "\n",
    "### Questions\n",
    "\n",
    "- What are the top 10 countries with lowest CPI score? And the highest?\n",
    "- The overall number of internet users variate between the countries with lowest and highest CPI score?\n",
    "- What are the correlation between the variables? Are there any differences between the countries with lowest and highest CPI score?\n",
    "- What are the countries that had the highest number of Journalists Killed? (1 dimention graph)\n",
    "- The correlations changes with the countries with most Journalist Killed?"
   ]
  },
  {
   "cell_type": "code",
   "execution_count": 18,
   "metadata": {},
   "outputs": [
    {
     "data": {
      "text/html": [
       "<div>\n",
       "<style scoped>\n",
       "    .dataframe tbody tr th:only-of-type {\n",
       "        vertical-align: middle;\n",
       "    }\n",
       "\n",
       "    .dataframe tbody tr th {\n",
       "        vertical-align: top;\n",
       "    }\n",
       "\n",
       "    .dataframe thead th {\n",
       "        text-align: right;\n",
       "    }\n",
       "</style>\n",
       "<table border=\"1\" class=\"dataframe\">\n",
       "  <thead>\n",
       "    <tr style=\"text-align: right;\">\n",
       "      <th></th>\n",
       "      <th>country</th>\n",
       "      <th>year</th>\n",
       "      <th>cpi</th>\n",
       "      <th>internet_users</th>\n",
       "      <th>journalists_killed</th>\n",
       "    </tr>\n",
       "  </thead>\n",
       "  <tbody>\n",
       "    <tr>\n",
       "      <th>0</th>\n",
       "      <td>Afghanistan</td>\n",
       "      <td>2012</td>\n",
       "      <td>8.0</td>\n",
       "      <td>5.45</td>\n",
       "      <td>0.0</td>\n",
       "    </tr>\n",
       "    <tr>\n",
       "      <th>1</th>\n",
       "      <td>Afghanistan</td>\n",
       "      <td>2013</td>\n",
       "      <td>8.0</td>\n",
       "      <td>5.90</td>\n",
       "      <td>0.0</td>\n",
       "    </tr>\n",
       "    <tr>\n",
       "      <th>2</th>\n",
       "      <td>Afghanistan</td>\n",
       "      <td>2014</td>\n",
       "      <td>12.0</td>\n",
       "      <td>7.00</td>\n",
       "      <td>3.0</td>\n",
       "    </tr>\n",
       "    <tr>\n",
       "      <th>3</th>\n",
       "      <td>Afghanistan</td>\n",
       "      <td>2015</td>\n",
       "      <td>11.0</td>\n",
       "      <td>8.26</td>\n",
       "      <td>0.0</td>\n",
       "    </tr>\n",
       "    <tr>\n",
       "      <th>4</th>\n",
       "      <td>Afghanistan</td>\n",
       "      <td>2016</td>\n",
       "      <td>15.0</td>\n",
       "      <td>10.60</td>\n",
       "      <td>4.0</td>\n",
       "    </tr>\n",
       "  </tbody>\n",
       "</table>\n",
       "</div>"
      ],
      "text/plain": [
       "       country  year   cpi  internet_users  journalists_killed\n",
       "0  Afghanistan  2012   8.0            5.45                 0.0\n",
       "1  Afghanistan  2013   8.0            5.90                 0.0\n",
       "2  Afghanistan  2014  12.0            7.00                 3.0\n",
       "3  Afghanistan  2015  11.0            8.26                 0.0\n",
       "4  Afghanistan  2016  15.0           10.60                 4.0"
      ]
     },
     "execution_count": 18,
     "metadata": {},
     "output_type": "execute_result"
    }
   ],
   "source": [
    "df.head()"
   ]
  },
  {
   "cell_type": "code",
   "execution_count": 19,
   "metadata": {},
   "outputs": [
    {
     "data": {
      "text/plain": [
       "(200, 5)"
      ]
     },
     "execution_count": 19,
     "metadata": {},
     "output_type": "execute_result"
    }
   ],
   "source": [
    "df.shape"
   ]
  },
  {
   "cell_type": "markdown",
   "metadata": {},
   "source": [
    "### Low and High CPI countries\n",
    "\n",
    "> Q: What are the top 10 countries with lowest CPI score? And the highest?\n",
    "\n",
    "Let's create two new slices of our dataset with the goal of analyzing patterns whitin countries with the lowest CPI score and also the countries with the highest CPI score, we're going to analyze them individually and compare after.\n",
    "\n",
    "In those slices we're looking to the **mean** of the years between 2012 and 2016."
   ]
  },
  {
   "cell_type": "code",
   "execution_count": 20,
   "metadata": {},
   "outputs": [],
   "source": [
    "# Variables of countries with CPI above and bellow the median score\n",
    "df_mean = df.groupby('country').mean()\n",
    "\n",
    "low_cpi = df_mean.sort_values('cpi').head(10)\n",
    "high_cpi = df_mean.sort_values('cpi').tail(10)"
   ]
  },
  {
   "cell_type": "markdown",
   "metadata": {},
   "source": [
    "#### Top 10 Lowest CPI score\n",
    "\n",
    "We can notice that the countries with the lowest CPI the number of internet users are smaller - this can also be influentiate by other factors like those countries being less develop than others. Looking into the number of journalists killed in those countries we also notice that it's higher than the other countries."
   ]
  },
  {
   "cell_type": "code",
   "execution_count": 21,
   "metadata": {},
   "outputs": [
    {
     "data": {
      "text/html": [
       "<div>\n",
       "<style scoped>\n",
       "    .dataframe tbody tr th:only-of-type {\n",
       "        vertical-align: middle;\n",
       "    }\n",
       "\n",
       "    .dataframe tbody tr th {\n",
       "        vertical-align: top;\n",
       "    }\n",
       "\n",
       "    .dataframe thead th {\n",
       "        text-align: right;\n",
       "    }\n",
       "</style>\n",
       "<table border=\"1\" class=\"dataframe\">\n",
       "  <thead>\n",
       "    <tr style=\"text-align: right;\">\n",
       "      <th></th>\n",
       "      <th>cpi</th>\n",
       "      <th>internet_users</th>\n",
       "      <th>journalists_killed</th>\n",
       "    </tr>\n",
       "    <tr>\n",
       "      <th>country</th>\n",
       "      <th></th>\n",
       "      <th></th>\n",
       "      <th></th>\n",
       "    </tr>\n",
       "  </thead>\n",
       "  <tbody>\n",
       "    <tr>\n",
       "      <th>Somalia</th>\n",
       "      <td>8.4</td>\n",
       "      <td>1.630</td>\n",
       "      <td>5.2</td>\n",
       "    </tr>\n",
       "    <tr>\n",
       "      <th>Afghanistan</th>\n",
       "      <td>10.8</td>\n",
       "      <td>7.442</td>\n",
       "      <td>1.4</td>\n",
       "    </tr>\n",
       "    <tr>\n",
       "      <th>South Sudan</th>\n",
       "      <td>11.0</td>\n",
       "      <td>4.106</td>\n",
       "      <td>1.0</td>\n",
       "    </tr>\n",
       "    <tr>\n",
       "      <th>Iraq</th>\n",
       "      <td>16.6</td>\n",
       "      <td>13.580</td>\n",
       "      <td>5.4</td>\n",
       "    </tr>\n",
       "    <tr>\n",
       "      <th>Libya</th>\n",
       "      <td>16.8</td>\n",
       "      <td>14.720</td>\n",
       "      <td>1.2</td>\n",
       "    </tr>\n",
       "    <tr>\n",
       "      <th>Yemen</th>\n",
       "      <td>18.4</td>\n",
       "      <td>21.740</td>\n",
       "      <td>2.4</td>\n",
       "    </tr>\n",
       "    <tr>\n",
       "      <th>Syria</th>\n",
       "      <td>18.8</td>\n",
       "      <td>28.100</td>\n",
       "      <td>21.2</td>\n",
       "    </tr>\n",
       "    <tr>\n",
       "      <th>Cambodia</th>\n",
       "      <td>21.0</td>\n",
       "      <td>16.088</td>\n",
       "      <td>0.2</td>\n",
       "    </tr>\n",
       "    <tr>\n",
       "      <th>Myanmar</th>\n",
       "      <td>21.4</td>\n",
       "      <td>14.060</td>\n",
       "      <td>0.4</td>\n",
       "    </tr>\n",
       "    <tr>\n",
       "      <th>Congo, Dem. Rep.</th>\n",
       "      <td>21.6</td>\n",
       "      <td>3.378</td>\n",
       "      <td>0.4</td>\n",
       "    </tr>\n",
       "  </tbody>\n",
       "</table>\n",
       "</div>"
      ],
      "text/plain": [
       "                   cpi  internet_users  journalists_killed\n",
       "country                                                   \n",
       "Somalia            8.4           1.630                 5.2\n",
       "Afghanistan       10.8           7.442                 1.4\n",
       "South Sudan       11.0           4.106                 1.0\n",
       "Iraq              16.6          13.580                 5.4\n",
       "Libya             16.8          14.720                 1.2\n",
       "Yemen             18.4          21.740                 2.4\n",
       "Syria             18.8          28.100                21.2\n",
       "Cambodia          21.0          16.088                 0.2\n",
       "Myanmar           21.4          14.060                 0.4\n",
       "Congo, Dem. Rep.  21.6           3.378                 0.4"
      ]
     },
     "execution_count": 21,
     "metadata": {},
     "output_type": "execute_result"
    }
   ],
   "source": [
    "low_cpi"
   ]
  },
  {
   "cell_type": "markdown",
   "metadata": {},
   "source": [
    "#### Top 10 Highest CPI score\n",
    "Now, looking for the countries with the highest CPI score in our main dataset, we can observe a really different reallity with a notable higher number of internet users and less journalists killed.\n",
    "\n",
    "This list of highest CPI score is from our main dataset that contain only 40 countries with all of them must have had at least one journalist killed between 2012 and 2016. In that case, even in the slice with highest CPI, there're countries with low CPI score if we consider the global understanding of the index. What I'm trying to say is that even in this slice the scores below 50 are consider bad for a country."
   ]
  },
  {
   "cell_type": "code",
   "execution_count": 22,
   "metadata": {},
   "outputs": [
    {
     "data": {
      "text/html": [
       "<div>\n",
       "<style scoped>\n",
       "    .dataframe tbody tr th:only-of-type {\n",
       "        vertical-align: middle;\n",
       "    }\n",
       "\n",
       "    .dataframe tbody tr th {\n",
       "        vertical-align: top;\n",
       "    }\n",
       "\n",
       "    .dataframe thead th {\n",
       "        text-align: right;\n",
       "    }\n",
       "</style>\n",
       "<table border=\"1\" class=\"dataframe\">\n",
       "  <thead>\n",
       "    <tr style=\"text-align: right;\">\n",
       "      <th></th>\n",
       "      <th>cpi</th>\n",
       "      <th>internet_users</th>\n",
       "      <th>journalists_killed</th>\n",
       "    </tr>\n",
       "    <tr>\n",
       "      <th>country</th>\n",
       "      <th></th>\n",
       "      <th></th>\n",
       "      <th></th>\n",
       "    </tr>\n",
       "  </thead>\n",
       "  <tbody>\n",
       "    <tr>\n",
       "      <th>Colombia</th>\n",
       "      <td>36.6</td>\n",
       "      <td>53.46</td>\n",
       "      <td>0.8</td>\n",
       "    </tr>\n",
       "    <tr>\n",
       "      <th>India</th>\n",
       "      <td>37.6</td>\n",
       "      <td>20.84</td>\n",
       "      <td>2.2</td>\n",
       "    </tr>\n",
       "    <tr>\n",
       "      <th>Brazil</th>\n",
       "      <td>41.2</td>\n",
       "      <td>54.68</td>\n",
       "      <td>3.6</td>\n",
       "    </tr>\n",
       "    <tr>\n",
       "      <th>South Africa</th>\n",
       "      <td>43.6</td>\n",
       "      <td>48.48</td>\n",
       "      <td>0.2</td>\n",
       "    </tr>\n",
       "    <tr>\n",
       "      <th>Turkey</th>\n",
       "      <td>45.4</td>\n",
       "      <td>50.88</td>\n",
       "      <td>1.0</td>\n",
       "    </tr>\n",
       "    <tr>\n",
       "      <th>Ghana</th>\n",
       "      <td>45.8</td>\n",
       "      <td>23.44</td>\n",
       "      <td>0.2</td>\n",
       "    </tr>\n",
       "    <tr>\n",
       "      <th>Bahrain</th>\n",
       "      <td>48.4</td>\n",
       "      <td>92.00</td>\n",
       "      <td>0.2</td>\n",
       "    </tr>\n",
       "    <tr>\n",
       "      <th>Poland</th>\n",
       "      <td>60.8</td>\n",
       "      <td>66.60</td>\n",
       "      <td>0.2</td>\n",
       "    </tr>\n",
       "    <tr>\n",
       "      <th>France</th>\n",
       "      <td>70.0</td>\n",
       "      <td>80.88</td>\n",
       "      <td>1.8</td>\n",
       "    </tr>\n",
       "    <tr>\n",
       "      <th>United States</th>\n",
       "      <td>74.0</td>\n",
       "      <td>73.98</td>\n",
       "      <td>0.4</td>\n",
       "    </tr>\n",
       "  </tbody>\n",
       "</table>\n",
       "</div>"
      ],
      "text/plain": [
       "                cpi  internet_users  journalists_killed\n",
       "country                                                \n",
       "Colombia       36.6           53.46                 0.8\n",
       "India          37.6           20.84                 2.2\n",
       "Brazil         41.2           54.68                 3.6\n",
       "South Africa   43.6           48.48                 0.2\n",
       "Turkey         45.4           50.88                 1.0\n",
       "Ghana          45.8           23.44                 0.2\n",
       "Bahrain        48.4           92.00                 0.2\n",
       "Poland         60.8           66.60                 0.2\n",
       "France         70.0           80.88                 1.8\n",
       "United States  74.0           73.98                 0.4"
      ]
     },
     "execution_count": 22,
     "metadata": {},
     "output_type": "execute_result"
    }
   ],
   "source": [
    "high_cpi"
   ]
  },
  {
   "cell_type": "markdown",
   "metadata": {},
   "source": [
    "### Lowest CPI Correlation\n",
    "\n",
    "> Q: What are the correlation between the variables? Are there any differences between the countries with lowest and highest CPI score?\n",
    "\n",
    "Now let's see the correlation between the CPI score, Internet Users and Journalists Killed in the Low CPI slice.\n",
    "\n",
    "The strongest relations in this slice is between the number of internet users and journalists killed, and after the internet users again and the CPI score. \n",
    "\n",
    "Again, there're a number of different factors for a country have a smaller number of internet users, like a smaller population, poor infrastructure, wars and so on. "
   ]
  },
  {
   "cell_type": "code",
   "execution_count": 23,
   "metadata": {},
   "outputs": [
    {
     "data": {
      "text/html": [
       "<div>\n",
       "<style scoped>\n",
       "    .dataframe tbody tr th:only-of-type {\n",
       "        vertical-align: middle;\n",
       "    }\n",
       "\n",
       "    .dataframe tbody tr th {\n",
       "        vertical-align: top;\n",
       "    }\n",
       "\n",
       "    .dataframe thead th {\n",
       "        text-align: right;\n",
       "    }\n",
       "</style>\n",
       "<table border=\"1\" class=\"dataframe\">\n",
       "  <thead>\n",
       "    <tr style=\"text-align: right;\">\n",
       "      <th></th>\n",
       "      <th>cpi</th>\n",
       "      <th>internet_users</th>\n",
       "      <th>journalists_killed</th>\n",
       "    </tr>\n",
       "  </thead>\n",
       "  <tbody>\n",
       "    <tr>\n",
       "      <th>cpi</th>\n",
       "      <td>1.000000</td>\n",
       "      <td>0.530513</td>\n",
       "      <td>0.015593</td>\n",
       "    </tr>\n",
       "    <tr>\n",
       "      <th>internet_users</th>\n",
       "      <td>0.530513</td>\n",
       "      <td>1.000000</td>\n",
       "      <td>0.591259</td>\n",
       "    </tr>\n",
       "    <tr>\n",
       "      <th>journalists_killed</th>\n",
       "      <td>0.015593</td>\n",
       "      <td>0.591259</td>\n",
       "      <td>1.000000</td>\n",
       "    </tr>\n",
       "  </tbody>\n",
       "</table>\n",
       "</div>"
      ],
      "text/plain": [
       "                         cpi  internet_users  journalists_killed\n",
       "cpi                 1.000000        0.530513            0.015593\n",
       "internet_users      0.530513        1.000000            0.591259\n",
       "journalists_killed  0.015593        0.591259            1.000000"
      ]
     },
     "execution_count": 23,
     "metadata": {},
     "output_type": "execute_result"
    }
   ],
   "source": [
    "low_cpi.corr()"
   ]
  },
  {
   "cell_type": "markdown",
   "metadata": {},
   "source": [
    "### Highest CPI Correlation\n",
    "\n",
    "> Q: What are the correlation between the variables? Are there any differences between the countries with lowest and highest CPI score?\n",
    "\n",
    "Now, looking at the correlation between our variables we can notice something interesting, the correlation between CPI and Journalists Killed is negative, and also between Internet Users and Journalists Killed, this is a clue that our main hypothesis can be right, that the countries with the highest CPI and more users on the internet can lead to a lower number of assasinations of journalists.\n",
    "\n",
    "There're a number of suppositions we could draw from this, like the more people get informed less censorship and more responsability of the government and so on, but we would need much more data because those type of thing has a lot of other correlations to prove being truth.\n",
    "\n",
    "Comming back at our data, we can notice that in our high CPI slice the correlation between Internet Users and CPI are positive, like in our lowest CPI slice, the CPI being higher is a good thing, so in both datasets the more number of internet users higher CPI score."
   ]
  },
  {
   "cell_type": "code",
   "execution_count": 24,
   "metadata": {},
   "outputs": [
    {
     "data": {
      "text/html": [
       "<div>\n",
       "<style scoped>\n",
       "    .dataframe tbody tr th:only-of-type {\n",
       "        vertical-align: middle;\n",
       "    }\n",
       "\n",
       "    .dataframe tbody tr th {\n",
       "        vertical-align: top;\n",
       "    }\n",
       "\n",
       "    .dataframe thead th {\n",
       "        text-align: right;\n",
       "    }\n",
       "</style>\n",
       "<table border=\"1\" class=\"dataframe\">\n",
       "  <thead>\n",
       "    <tr style=\"text-align: right;\">\n",
       "      <th></th>\n",
       "      <th>cpi</th>\n",
       "      <th>internet_users</th>\n",
       "      <th>journalists_killed</th>\n",
       "    </tr>\n",
       "  </thead>\n",
       "  <tbody>\n",
       "    <tr>\n",
       "      <th>cpi</th>\n",
       "      <td>1.000000</td>\n",
       "      <td>0.611228</td>\n",
       "      <td>-0.238509</td>\n",
       "    </tr>\n",
       "    <tr>\n",
       "      <th>internet_users</th>\n",
       "      <td>0.611228</td>\n",
       "      <td>1.000000</td>\n",
       "      <td>-0.175961</td>\n",
       "    </tr>\n",
       "    <tr>\n",
       "      <th>journalists_killed</th>\n",
       "      <td>-0.238509</td>\n",
       "      <td>-0.175961</td>\n",
       "      <td>1.000000</td>\n",
       "    </tr>\n",
       "  </tbody>\n",
       "</table>\n",
       "</div>"
      ],
      "text/plain": [
       "                         cpi  internet_users  journalists_killed\n",
       "cpi                 1.000000        0.611228           -0.238509\n",
       "internet_users      0.611228        1.000000           -0.175961\n",
       "journalists_killed -0.238509       -0.175961            1.000000"
      ]
     },
     "execution_count": 24,
     "metadata": {},
     "output_type": "execute_result"
    }
   ],
   "source": [
    "high_cpi.corr()"
   ]
  },
  {
   "cell_type": "markdown",
   "metadata": {},
   "source": [
    "#### Top 10 countries with most Journalists Killed\n",
    "\n",
    "> Q: What are the countries that had the highest number of Journalists Killed?\n",
    "\n",
    "Let's create a new slice with the most Journalists Killed summing the variables of all the years from 2012 to 2016.\n",
    "\n",
    "We're looking for the sum of all variables between those years."
   ]
  },
  {
   "cell_type": "code",
   "execution_count": 25,
   "metadata": {},
   "outputs": [
    {
     "data": {
      "text/html": [
       "<div>\n",
       "<style scoped>\n",
       "    .dataframe tbody tr th:only-of-type {\n",
       "        vertical-align: middle;\n",
       "    }\n",
       "\n",
       "    .dataframe tbody tr th {\n",
       "        vertical-align: top;\n",
       "    }\n",
       "\n",
       "    .dataframe thead th {\n",
       "        text-align: right;\n",
       "    }\n",
       "</style>\n",
       "<table border=\"1\" class=\"dataframe\">\n",
       "  <thead>\n",
       "    <tr style=\"text-align: right;\">\n",
       "      <th></th>\n",
       "      <th>cpi</th>\n",
       "      <th>internet_users</th>\n",
       "      <th>journalists_killed</th>\n",
       "    </tr>\n",
       "    <tr>\n",
       "      <th>country</th>\n",
       "      <th></th>\n",
       "      <th></th>\n",
       "      <th></th>\n",
       "    </tr>\n",
       "  </thead>\n",
       "  <tbody>\n",
       "    <tr>\n",
       "      <th>Syria</th>\n",
       "      <td>94.0</td>\n",
       "      <td>140.50</td>\n",
       "      <td>106.0</td>\n",
       "    </tr>\n",
       "    <tr>\n",
       "      <th>Iraq</th>\n",
       "      <td>83.0</td>\n",
       "      <td>67.90</td>\n",
       "      <td>27.0</td>\n",
       "    </tr>\n",
       "    <tr>\n",
       "      <th>Somalia</th>\n",
       "      <td>42.0</td>\n",
       "      <td>8.15</td>\n",
       "      <td>26.0</td>\n",
       "    </tr>\n",
       "    <tr>\n",
       "      <th>Brazil</th>\n",
       "      <td>206.0</td>\n",
       "      <td>273.40</td>\n",
       "      <td>18.0</td>\n",
       "    </tr>\n",
       "    <tr>\n",
       "      <th>Pakistan</th>\n",
       "      <td>146.0</td>\n",
       "      <td>62.36</td>\n",
       "      <td>18.0</td>\n",
       "    </tr>\n",
       "    <tr>\n",
       "      <th>Yemen</th>\n",
       "      <td>92.0</td>\n",
       "      <td>108.70</td>\n",
       "      <td>12.0</td>\n",
       "    </tr>\n",
       "    <tr>\n",
       "      <th>India</th>\n",
       "      <td>188.0</td>\n",
       "      <td>104.20</td>\n",
       "      <td>11.0</td>\n",
       "    </tr>\n",
       "    <tr>\n",
       "      <th>Mexico</th>\n",
       "      <td>164.0</td>\n",
       "      <td>244.60</td>\n",
       "      <td>10.0</td>\n",
       "    </tr>\n",
       "    <tr>\n",
       "      <th>Egypt</th>\n",
       "      <td>171.0</td>\n",
       "      <td>168.70</td>\n",
       "      <td>9.0</td>\n",
       "    </tr>\n",
       "    <tr>\n",
       "      <th>France</th>\n",
       "      <td>350.0</td>\n",
       "      <td>404.40</td>\n",
       "      <td>9.0</td>\n",
       "    </tr>\n",
       "  </tbody>\n",
       "</table>\n",
       "</div>"
      ],
      "text/plain": [
       "            cpi  internet_users  journalists_killed\n",
       "country                                            \n",
       "Syria      94.0          140.50               106.0\n",
       "Iraq       83.0           67.90                27.0\n",
       "Somalia    42.0            8.15                26.0\n",
       "Brazil    206.0          273.40                18.0\n",
       "Pakistan  146.0           62.36                18.0\n",
       "Yemen      92.0          108.70                12.0\n",
       "India     188.0          104.20                11.0\n",
       "Mexico    164.0          244.60                10.0\n",
       "Egypt     171.0          168.70                 9.0\n",
       "France    350.0          404.40                 9.0"
      ]
     },
     "execution_count": 25,
     "metadata": {},
     "output_type": "execute_result"
    }
   ],
   "source": [
    "# Top 10 countries with more journalists killed whitin the years 2012 to 2016\n",
    "most_killed = df.groupby('country').sum().sort_values('journalists_killed', ascending=False).head(10)\n",
    "most_killed"
   ]
  },
  {
   "cell_type": "markdown",
   "metadata": {},
   "source": [
    "> Q: The correlations changes with the countries with most Journalist Killed?\n",
    "\n",
    "We can notice a similar behavior with the correlation between CPI and Journalists Killed, like in the slice with the Higher CPI score, when the CPI is higher less journalists got killed. Also, with more Internet Users, the CPI score has a tendency to be higher."
   ]
  },
  {
   "cell_type": "code",
   "execution_count": 26,
   "metadata": {},
   "outputs": [
    {
     "data": {
      "text/html": [
       "<div>\n",
       "<style scoped>\n",
       "    .dataframe tbody tr th:only-of-type {\n",
       "        vertical-align: middle;\n",
       "    }\n",
       "\n",
       "    .dataframe tbody tr th {\n",
       "        vertical-align: top;\n",
       "    }\n",
       "\n",
       "    .dataframe thead th {\n",
       "        text-align: right;\n",
       "    }\n",
       "</style>\n",
       "<table border=\"1\" class=\"dataframe\">\n",
       "  <thead>\n",
       "    <tr style=\"text-align: right;\">\n",
       "      <th></th>\n",
       "      <th>cpi</th>\n",
       "      <th>internet_users</th>\n",
       "      <th>journalists_killed</th>\n",
       "    </tr>\n",
       "  </thead>\n",
       "  <tbody>\n",
       "    <tr>\n",
       "      <th>cpi</th>\n",
       "      <td>1.000000</td>\n",
       "      <td>0.879321</td>\n",
       "      <td>-0.377196</td>\n",
       "    </tr>\n",
       "    <tr>\n",
       "      <th>internet_users</th>\n",
       "      <td>0.879321</td>\n",
       "      <td>1.000000</td>\n",
       "      <td>-0.187993</td>\n",
       "    </tr>\n",
       "    <tr>\n",
       "      <th>journalists_killed</th>\n",
       "      <td>-0.377196</td>\n",
       "      <td>-0.187993</td>\n",
       "      <td>1.000000</td>\n",
       "    </tr>\n",
       "  </tbody>\n",
       "</table>\n",
       "</div>"
      ],
      "text/plain": [
       "                         cpi  internet_users  journalists_killed\n",
       "cpi                 1.000000        0.879321           -0.377196\n",
       "internet_users      0.879321        1.000000           -0.187993\n",
       "journalists_killed -0.377196       -0.187993            1.000000"
      ]
     },
     "execution_count": 26,
     "metadata": {},
     "output_type": "execute_result"
    }
   ],
   "source": [
    "most_killed.corr()"
   ]
  },
  {
   "cell_type": "markdown",
   "metadata": {},
   "source": [
    "## Generating Visualizations\n",
    "We want to ganerate some visualizations to validate that our correlation proven to be right throught some countries as an example."
   ]
  },
  {
   "cell_type": "markdown",
   "metadata": {},
   "source": [
    "### Define style properties\n",
    "\n",
    "First, for consistency in styles and facillitating any change that has to affect all the graphs, we define somes new variables with stype properties."
   ]
  },
  {
   "cell_type": "code",
   "execution_count": 64,
   "metadata": {},
   "outputs": [],
   "source": [
    "# text styles\n",
    "header = 24\n",
    "title = 20\n",
    "label = 14\n",
    "\n",
    "# config styles\n",
    "figsize = (20,15)\n",
    "figsize_small = (7,7)\n",
    "pad = 10"
   ]
  },
  {
   "cell_type": "code",
   "execution_count": 28,
   "metadata": {},
   "outputs": [
    {
     "data": {
      "image/png": "[encoded data removed]",
      "text/plain": [
       "<Figure size 504x1944 with 2 Axes>"
      ]
     },
     "metadata": {
      "needs_background": "light"
     },
     "output_type": "display_data"
    }
   ],
   "source": [
    "# Let's create a new dataset with only the CPI values and sort those values by the last year\n",
    "hm = df[['country', 'year', 'cpi']].copy()\n",
    "hm = hm.pivot('country', 'year', 'cpi')\n",
    "hm.sort_values('2016', ascending=False, inplace=True)\n",
    "\n",
    "fig, ax = plt.subplots(figsize=(7,27))\n",
    "\n",
    "ax = sns.heatmap(hm, vmin=0, vmax=100, annot=True, linewidths=.5)"
   ]
  },
  {
   "cell_type": "markdown",
   "metadata": {},
   "source": [
    "### Validating correlations\n",
    "To validate our correlation cited above with the countries that has the most number of journalists killed, considering the sum of values we notice before that the more people on the internet and higher CPI, less journalists got killed.\n",
    "\n",
    "Let's take a list of countries in the dataset with most journalists killed and plot the data for each country.\n",
    "\n",
    "We can observe in the plots below that some countries is really clear the correlation between CPI and Journalists Killed, where is the case for Syria, Brazil and Yemen, but that visualization doesn't help that much with the other countries."
   ]
  },
  {
   "cell_type": "code",
   "execution_count": 29,
   "metadata": {},
   "outputs": [
    {
     "data": {
      "image/png": "[encoded data removed]",
      "text/plain": [
       "<Figure size 864x360 with 1 Axes>"
      ]
     },
     "metadata": {
      "needs_background": "light"
     },
     "output_type": "display_data"
    },
    {
     "data": {
      "image/png": "[encoded data removed]",
      "text/plain": [
       "<Figure size 864x360 with 1 Axes>"
      ]
     },
     "metadata": {
      "needs_background": "light"
     },
     "output_type": "display_data"
    },
    {
     "data": {
      "image/png": "[encoded data removed]",
      "text/plain": [
       "<Figure size 864x360 with 1 Axes>"
      ]
     },
     "metadata": {
      "needs_background": "light"
     },
     "output_type": "display_data"
    },
    {
     "data": {
      "image/png": "[encoded data removed]",
      "text/plain": [
       "<Figure size 864x360 with 1 Axes>"
      ]
     },
     "metadata": {
      "needs_background": "light"
     },
     "output_type": "display_data"
    },
    {
     "data": {
      "image/png": "[encoded data removed]",
      "text/plain": [
       "<Figure size 864x360 with 1 Axes>"
      ]
     },
     "metadata": {
      "needs_background": "light"
     },
     "output_type": "display_data"
    },
    {
     "data": {
      "image/png": "[encoded data removed]",
      "text/plain": [
       "<Figure size 864x360 with 1 Axes>"
      ]
     },
     "metadata": {
      "needs_background": "light"
     },
     "output_type": "display_data"
    },
    {
     "data": {
      "image/png": "[encoded data removed]",
      "text/plain": [
       "<Figure size 864x360 with 1 Axes>"
      ]
     },
     "metadata": {
      "needs_background": "light"
     },
     "output_type": "display_data"
    },
    {
     "data": {
      "image/png": "[encoded data removed]",
      "text/plain": [
       "<Figure size 864x360 with 1 Axes>"
      ]
     },
     "metadata": {
      "needs_background": "light"
     },
     "output_type": "display_data"
    },
    {
     "data": {
      "image/png": "[encoded data removed]",
      "text/plain": [
       "<Figure size 864x360 with 1 Axes>"
      ]
     },
     "metadata": {
      "needs_background": "light"
     },
     "output_type": "display_data"
    },
    {
     "data": {
      "image/png": "[encoded data removed]",
      "text/plain": [
       "<Figure size 864x360 with 1 Axes>"
      ]
     },
     "metadata": {
      "needs_background": "light"
     },
     "output_type": "display_data"
    }
   ],
   "source": [
    "# Let's get the list of countries and store in a new variable\n",
    "countries_most_killed = list(most_killed.index)\n",
    "\n",
    "# Now we select only those countries in our dataset and plot into a graph\n",
    "for c in countries_most_killed:\n",
    "    df[df.country == c].plot('year', title=c, figsize=(12,5))"
   ]
  },
  {
   "cell_type": "markdown",
   "metadata": {},
   "source": [
    "### Journalists Killed by country\n",
    "\n",
    "Let's see the number of journalists killed by country. First the lowest CPI countries then the highest."
   ]
  },
  {
   "cell_type": "code",
   "execution_count": 67,
   "metadata": {},
   "outputs": [],
   "source": [
    "low_killed = low_cpi['journalists_killed'].sort_values()\n",
    "high_killed = high_cpi['journalists_killed'].sort_values()"
   ]
  },
  {
   "cell_type": "code",
   "execution_count": 88,
   "metadata": {},
   "outputs": [
    {
     "data": {
      "image/png": "[encoded data removed]",
      "text/plain": [
       "<Figure size 1080x864 with 1 Axes>"
      ]
     },
     "metadata": {
      "needs_background": "light"
     },
     "output_type": "display_data"
    }
   ],
   "source": [
    "fig, ax = plt.subplots(figsize=(15,12))\n",
    "ax.set_title('Mean of Journalists Killed in the lowest CPI countries')\n",
    "\n",
    "ax.bar(low_killed.index, low_killed);"
   ]
  },
  {
   "cell_type": "code",
   "execution_count": 89,
   "metadata": {},
   "outputs": [
    {
     "data": {
      "image/png": "[encoded data removed]",
      "text/plain": [
       "<Figure size 1080x864 with 1 Axes>"
      ]
     },
     "metadata": {
      "needs_background": "light"
     },
     "output_type": "display_data"
    }
   ],
   "source": [
    "fig, ax = plt.subplots(figsize=(15,12))\n",
    "ax.set_title('Mean of Journalists Killed in the highest CPI countries')\n",
    "\n",
    "ax.bar(high_killed.index, high_killed);"
   ]
  },
  {
   "cell_type": "markdown",
   "metadata": {},
   "source": [
    "## Limitations\n",
    "\n",
    "We're using three datasets, two of them has data of many years that could have helped the analysis, but the CPI dataset only had data from 2012 to 2017, this resulted in a limitation of years that we could analyze the data.\n",
    "\n",
    "Also, some additional information would be useful to validate hypothesis like \"what happened in this country this year to hava had so many journalists killed\" or \"why the CPI score have rise in those years, what could have had influentiated the corruption perception with the population\", and so on. But if we've added those data the analysis could turn to be too complex and also, we aren't certain that this sort of data is available or if there is quality data for this."
   ]
  },
  {
   "cell_type": "markdown",
   "metadata": {},
   "source": [
    "## Conclusions\n",
    "The main goal os this analysis were to verify if there was some correlation between the CPI score (that's a index for corruption perception) with the number of internet users and journalists killed.\n",
    "\n",
    "We could see that in some countries that correlation exist and is perceptible, this can be affect by a different number of factors and the analysis could contemplate other datasets for a more profound analysis, but for exercise of exploration that was the goal for this project we're going to stop here."
   ]
  }
 ],
 "metadata": {
  "kernelspec": {
   "display_name": "Python 3",
   "language": "python",
   "name": "python3"
  },
  "language_info": {
   "codemirror_mode": {
    "name": "ipython",
    "version": 3
   },
   "file_extension": ".py",
   "mimetype": "text/x-python",
   "name": "python",
   "nbconvert_exporter": "python",
   "pygments_lexer": "ipython3",
   "version": "3.7.3"
  }
 },
 "nbformat": 4,
 "nbformat_minor": 4
}
